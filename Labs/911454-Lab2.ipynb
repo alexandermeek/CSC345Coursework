{
 "cells": [
  {
   "cell_type": "markdown",
   "metadata": {},
   "source": [
    "# Lab 2 - Clustering\n",
    "In this lab we look at clustering with k-means and GMMs. We will work on putting together the skeleton code to create the functionality of the algorithms, and then we will cluster the Fisher Iris dataset. We will finish by looking at the sklearn implementations of these algorithms.\n",
    "\n",
    "<b>Important note:</b> \n",
    "    Please do not edit the existing code snippets. Instead, add your functionality into the TODO sections. Read the entire skeleton structure first and think about how you should structure the code you are adding in carefully.\n",
    "    \n",
    "There are <b>42</b> TODOs in this lab. It may seem like a lot but don't worry. Many are just selecting hyper-parameters and many of the visualisation TODOs are the same."
   ]
  },
  {
   "cell_type": "markdown",
   "metadata": {},
   "source": [
    "## Task 2.1 - Data Exploration\n",
    "This task will load the data and explore the feature space of the observations. We will plot two feature dimensions against eachother, labeling them based on colour from the known class IDs."
   ]
  },
  {
   "cell_type": "code",
   "execution_count": 2,
   "metadata": {},
   "outputs": [],
   "source": [
    "import numpy as np\n",
    "import matplotlib.pyplot as plt"
   ]
  },
  {
   "cell_type": "code",
   "execution_count": 3,
   "metadata": {},
   "outputs": [
    {
     "data": {
      "image/png": "[encoded data removed]",
      "text/plain": [
       "<Figure size 432x288 with 1 Axes>"
      ]
     },
     "metadata": {
      "needs_background": "light"
     },
     "output_type": "display_data"
    }
   ],
   "source": [
    "irisData = np.load('Iris_data.npy')\n",
    "irisLabels = np.load('Iris_labels.npy')\n",
    "counter = 0\n",
    "for i in irisLabels:\n",
    "    if i == 0:\n",
    "        plt.scatter(irisData[counter,1], irisData[counter,3], color='red', marker='.')\n",
    "    elif i == 1:\n",
    "        plt.scatter(irisData[counter,1], irisData[counter,3], color='blue', marker='.')\n",
    "    else:\n",
    "        plt.scatter(irisData[counter,1], irisData[counter,3], color='green', marker='.')\n",
    "    counter += 1\n",
    "\n",
    "plt.xlabel('Sepal width')\n",
    "plt.ylabel('Petal width')\n",
    "plt.title('Sepal vs petal width from Irises')\n",
    "\n",
    "plt.show()"
   ]
  },
  {
   "cell_type": "markdown",
   "metadata": {},
   "source": [
    "## Task 2.2 - K-means Clustering \n",
    "The task here is to fill out the skeleton code in order to complete the k-means implementation. Follow the lecture notes and take some hints along the way. We first define a function to calculate the Euclidean distance between each of the cluster centres and the data, then we initialise our hyper-parameters and create a loop to fit our clusters to the data.\n",
    "\n",
    "### K-Means algorithm:\n",
    "\n",
    "Setup: Select random initial set of k cluster centers\n",
    "\n",
    "Loop:\n",
    "\n",
    "    for i = 1 to maximum number of iterations\n",
    "        calculate distance from training points to cluster centroids\n",
    "        update class labels\n",
    "        recalculate centroid locations"
   ]
  },
  {
   "cell_type": "code",
   "execution_count": 4,
   "metadata": {},
   "outputs": [],
   "source": [
    "# Definition of euclidean distance function between cluster centroid and matrix of datapoints\n",
    "def euclidean_distance(k_centroids, datapoints):\n",
    "    dists = np.zeros(shape=[datapoints.shape[0], k_centroids.shape[0]])\n",
    "    \n",
    "    for iK in range(0, k_centroids.shape[0]):\n",
    "        centre = np.tile(k_centroids[iK, :], (datapoints.shape[0], 1))\n",
    "        diff = centre - datapoints\n",
    "        sum_of_squared_differences = np.zeros([datapoints.shape[0]])\n",
    "        for i_dimension in range(0, k_centroids.shape[1]):\n",
    "            sum_of_squared_differences += (diff[:, i_dimension]**2)\n",
    "        dists[:,iK] = np.sqrt(sum_of_squared_differences)\n",
    "        \n",
    "    return dists"
   ]
  },
  {
   "cell_type": "code",
   "execution_count": 5,
   "metadata": {},
   "outputs": [
    {
     "name": "stdout",
     "output_type": "stream",
     "text": [
      "Iteration 1: total update distance of centroids: 8.568888888888885\n",
      "Iteration 2: total update distance of centroids: 4.889542483660131\n",
      "Iteration 3: total update distance of centroids: 1.0175401069518721\n",
      "Iteration 4: total update distance of centroids: 0.2251419073049094\n",
      "Iteration 5: total update distance of centroids: 0.0\n",
      "Iteration 6: total update distance of centroids: 0.0\n",
      "Iteration 7: total update distance of centroids: 0.0\n",
      "Iteration 8: total update distance of centroids: 0.0\n",
      "Iteration 9: total update distance of centroids: 0.0\n",
      "Iteration 10: total update distance of centroids: 0.0\n",
      "Iteration 11: total update distance of centroids: 0.0\n",
      "Iteration 12: total update distance of centroids: 0.0\n"
     ]
    },
    {
     "data": {
      "image/png": "[encoded data removed]",
      "text/plain": [
       "<Figure size 432x288 with 1 Axes>"
      ]
     },
     "metadata": {
      "needs_background": "light"
     },
     "output_type": "display_data"
    }
   ],
   "source": [
    "k = 2 # Select a number of clusters.\n",
    "n_iteration = 12 # Select a number of iterations.\n",
    "k_centroid = np.array([irisData[0, :], irisData[1, :]])#, irisData[2, :]]) # Select cluster centroids.\n",
    "\n",
    "for n in range(0, n_iteration, 1): # Loop over each iteration.\n",
    "    last_k_centroid = k_centroid\n",
    "    \n",
    "    #Calculate distances\n",
    "    dists = euclidean_distance(k_centroid, irisData)\n",
    "    \n",
    "    #Reassign labels\n",
    "    predicted_label = np.apply_along_axis(np.argmin, axis=1, arr=dists)\n",
    "    \n",
    "    #Recalculate centroids\n",
    "    new_centroid = np.zeros(shape=[k,irisData.shape[1]])\n",
    "    for iK in range(0, k, 1): # TODO: Loop over each cluster iK.\n",
    "        #Get all datapoints alocated to cluster iK\n",
    "        cluster_data = irisData[(iK==predicted_label[:])] # Slice into data with predicted_label.\n",
    "        #Calculate the mean of this cluster\n",
    "        new_centroid[iK, :] = cluster_data.mean(axis=0)# Calculate mean of datapoints.\n",
    "        \n",
    "    #Assign the new cluster centers\n",
    "    k_centroid = new_centroid\n",
    "        \n",
    "    print('Iteration {0}: total update distance of centroids: {1}'.format(n+1, np.sum(np.abs(new_centroid - last_k_centroid))))\n",
    "    \n",
    "#Visualisation of model predictions\n",
    "counter=0\n",
    "i=0\n",
    "for i in predicted_label:\n",
    "    if i == 0:\n",
    "        plt.scatter(irisData[counter,1], irisData[counter,3], color='green', marker='.')\n",
    "    else:\n",
    "        plt.scatter(irisData[counter,1], irisData[counter,3], color='blue', marker='.')\n",
    "    counter += 1\n",
    "plt.scatter(k_centroid[:,1], k_centroid[:,3], color='red', marker='x')\n",
    "\n",
    "plt.xlabel('Sepal width')\n",
    "plt.ylabel('Petal width')\n",
    "plt.title('Our implementation of k-Means')\n",
    "plt.show()"
   ]
  },
  {
   "cell_type": "markdown",
   "metadata": {},
   "source": [
    "## Task 2.3 - Gaussian Mixture Models\n",
    "The task here is to fill out the skeleton code in order to complete the GMM implementation. Follow the lecture notes and take some hints along the way. We first define some functions for the algorithm, followed by initialisation of the parameters, and finally we implement the loop within which we fit our Gaussians to our data.\n",
    "\n",
    "### GMM Algorithm:\n",
    "Setup: Initialise Gaussian distribution centroid, standard deviations and mixing coefficients using k-means coefficients.\n",
    "\n",
    "Loop: \n",
    "\n",
    "    Compute E-Step: calculate posteriors for the data given current Gaussian parameters \n",
    "    Compute M-Step: update model parameters "
   ]
  },
  {
   "cell_type": "code",
   "execution_count": 6,
   "metadata": {},
   "outputs": [],
   "source": [
    "# TODO: Figure out which one is the E-Step and which is the M-Step.\n",
    "\n",
    "def multivariate_gaussian_density(x, mu, sig):\n",
    "    size = x.shape[0]\n",
    "    det = np.linalg.det(sig)\n",
    "    norm_const = 1.0 / ((2*np.pi)**(size/2) * det **(1.0/2) )\n",
    "    x_mu = x - mu\n",
    "    inv = np.linalg.inv(sig)  \n",
    "    result = np.e**(-(1.0/2) * (x_mu @ inv @ x_mu.T))\n",
    "    \n",
    "    return norm_const * result\n",
    "    \n",
    "#E-Step    \n",
    "def likelihood(x,gCentroids, gSD, gMix):\n",
    "    p = np.zeros([x.shape[0],gCentroids.shape[0]])\n",
    "    p_total = np.zeros(x.shape[0])\n",
    "    posteriors = np.zeros([x.shape[0],gCentroids.shape[0]])\n",
    "    \n",
    "    for iSample in range(0, x.shape[0]):\n",
    "        for iCluster in range(0, gCentroids.shape[0]):\n",
    "            p[iSample,iCluster] = multivariate_gaussian_density(x[iSample,:].T, gCentroids[iCluster,:], gSD[:,:,iCluster])\n",
    "            p_total[iSample] = p_total[iSample] + p[iSample,iCluster] \n",
    "        \n",
    "        for iCluster in range(0, gCentroids.shape[0]):\n",
    "            posteriors[iSample, iCluster] = p[iSample, iCluster] / p_total[iSample]\n",
    "            \n",
    "    return posteriors    \n",
    "\n",
    "#M-Step\n",
    "def update_params(data, posteriors, gMix, gSD, gCentroids):\n",
    "    #Update mixing coefs\n",
    "    newGMix = 1/data.size*sum(posteriors)\n",
    "    \n",
    "    \n",
    "    #Update centroids\n",
    "    newCentroids = np.zeros(gCentroids.shape)\n",
    "    for iCluster in range(0, gMix.shape[0]):\n",
    "        norm = np.expand_dims(posteriors[:, iCluster],axis=1)/np.sum(posteriors[:,iCluster])\n",
    "        newCentroids[iCluster, :] = np.sum(norm * data, axis=0)\n",
    "\n",
    "    #Update covariance matrices\n",
    "    newGSD = np.zeros(gSD.shape)\n",
    "    for c in range(0, gMix.shape[0]):\n",
    "        running_sum = np.zeros(gSD.shape[0:2]) \n",
    "        for iData in range(0, data.shape[0]):\n",
    "            mean_centred_data = (np.expand_dims(data[iData, :],axis=0) - newCentroids[c,:])\n",
    "            running_sum += posteriors[iData, iCluster] * mean_centred_data * mean_centred_data.T\n",
    "        running_sum = running_sum / np.sum(posteriors[:,iCluster],axis=0)\n",
    "        newGSD[:,:,c] = running_sum\n",
    "\n",
    "    return newGMix, newGSD, newCentroids"
   ]
  },
  {
   "cell_type": "markdown",
   "metadata": {},
   "source": [
    "### Initialise parameters\n",
    "Initialise the number of components, the number of iterations and the Gaussian parameters (mus, sigmas, mixings)."
   ]
  },
  {
   "cell_type": "code",
   "execution_count": 7,
   "metadata": {},
   "outputs": [],
   "source": [
    "g = 2 # Select a number of Gaussians. Use the same number as k in task 2.2.\n",
    "nIteration = 12 # Select a number of iterations.\n",
    "\n",
    "cluster_centroids = np.zeros([g,irisData.shape[1]])\n",
    "g_SD = np.zeros([irisData.shape[1],irisData.shape[1], g])\n",
    "g_mix = np.zeros(g)\n",
    "\n",
    "# TODO: Understand what is happening here. Hint: clustering part 2 lecture, slide 10.\n",
    "for iCluster in range(0,g):\n",
    "    data_in_cluster = irisData[predicted_label == iCluster, :]\n",
    "    cluster_centroids[iCluster,:] = np.mean(data_in_cluster, axis=0)\n",
    "    g_SD[:,:,iCluster] = np.cov(data_in_cluster.T)\n",
    "    g_mix[iCluster] = data_in_cluster.shape[0] / irisData.shape[0]"
   ]
  },
  {
   "cell_type": "markdown",
   "metadata": {},
   "source": [
    "### Main loop of GMM fitting\n",
    "Loop over our iterations, computing steps E and M repeatedly."
   ]
  },
  {
   "cell_type": "code",
   "execution_count": 8,
   "metadata": {},
   "outputs": [
    {
     "name": "stdout",
     "output_type": "stream",
     "text": [
      "Iteration 1\n",
      "Iteration 2\n",
      "Iteration 3\n",
      "Iteration 4\n",
      "Iteration 5\n",
      "Iteration 6\n",
      "Iteration 7\n",
      "Iteration 8\n",
      "Iteration 9\n",
      "Iteration 10\n",
      "Iteration 11\n",
      "Iteration 12\n"
     ]
    },
    {
     "data": {
      "image/png": "[encoded data removed]",
      "text/plain": [
       "<Figure size 432x288 with 1 Axes>"
      ]
     },
     "metadata": {
      "needs_background": "light"
     },
     "output_type": "display_data"
    },
    {
     "data": {
      "image/png": "[encoded data removed]",
      "text/plain": [
       "<Figure size 432x288 with 1 Axes>"
      ]
     },
     "metadata": {
      "needs_background": "light"
     },
     "output_type": "display_data"
    }
   ],
   "source": [
    "for i in range(0, nIteration):\n",
    "    #E-Step\n",
    "    posteriors = likelihood(irisData, cluster_centroids, g_SD, g_mix) # Call E-Step function.\n",
    "\n",
    "    #M-Step\n",
    "    g_mix, g_SD, cluster_centroids = update_params(irisData, posteriors, g_mix, g_SD, cluster_centroids) # Call M-Step function.\n",
    "    \n",
    "    print('Iteration {0}'.format(i+1))#, end='\\r') \n",
    "\n",
    "#Predict labels\n",
    "predicted_label = np.apply_along_axis(np.argmin, axis=1, arr=posteriors) # Get cluster label based on posterior. Hint: argmin.\n",
    "\n",
    "#Visualisation of model predictions\n",
    "counter=0\n",
    "i=0\n",
    "for i in predicted_label:\n",
    "    if i == 0:\n",
    "        plt.scatter(irisData[counter,1], irisData[counter,3], color='blue', marker='.')\n",
    "    else:\n",
    "        plt.scatter(irisData[counter,1], irisData[counter,3], color='green', marker='.')\n",
    "    counter += 1\n",
    "plt.scatter(cluster_centroids[:,1], cluster_centroids[:,3], color='red', marker='x')\n",
    "\n",
    "plt.xlabel('Sepal width')\n",
    "plt.ylabel('Petal width')\n",
    "\n",
    "plt.title('Our implementation of GMMs')\n",
    "plt.show()  \n",
    "\n",
    "#Visualisation of model posteriors\n",
    "# TODO: Create a new figure with plt.figure()\n",
    "# TODO: Plot two feature dimensions against eachother, label with the posteriors for a specific cluster.\n",
    "# TODO: Plot the cluster centroids on top. Hint: use a different shaped marker with 'marker=\"x\"'.\n",
    "# TODO: Label axes correctly.\n",
    "plt.figure()\n",
    "counter=0\n",
    "i=0\n",
    "for i in predicted_label:\n",
    "    if i == 0:\n",
    "        plt.scatter(irisData[counter,1], irisData[counter,3], color='blue', marker='.')\n",
    "    else:\n",
    "        plt.scatter(irisData[counter,1], irisData[counter,3], color='green', marker='.')\n",
    "    counter += 1\n",
    "plt.scatter(cluster_centroids[:,1], cluster_centroids[:,3], color='red', marker='x')\n",
    "\n",
    "plt.xlabel('Sepal width')\n",
    "plt.ylabel('Petal width')\n",
    "\n",
    "plt.title('Posteriors of our GMM')\n",
    "plt.show()"
   ]
  },
  {
   "cell_type": "markdown",
   "metadata": {},
   "source": [
    "# Using SciKit-Learn\n",
    "Here we will import SciKit-Learn and use the built-in API functionality to run k-Means clustering and GMM on the Fisher Iris data.\n",
    "\n",
    "Here we can use the <b>sklearn.cluster.KMeans</b> object. We need to define a number of clusters and then call the <b>fit</b> and <b>predict</b> methods.\n",
    "\n",
    "We can also use the <b>sklearn.mixture.GaussianMixture</b> object. We need to define a number of Guassians and then call the <b>fit</b> and <b>predict</b> methods."
   ]
  },
  {
   "cell_type": "code",
   "execution_count": 9,
   "metadata": {
    "scrolled": true
   },
   "outputs": [
    {
     "data": {
      "image/png": "[encoded data removed]",
      "text/plain": [
       "<Figure size 432x288 with 1 Axes>"
      ]
     },
     "metadata": {
      "needs_background": "light"
     },
     "output_type": "display_data"
    },
    {
     "ename": "AttributeError",
     "evalue": "module 'sklearn.mixture' has no attribute 'GMM'",
     "output_type": "error",
     "traceback": [
      "\u001b[1;31m---------------------------------------------------------------------------\u001b[0m",
      "\u001b[1;31mAttributeError\u001b[0m                            Traceback (most recent call last)",
      "\u001b[1;32m<ipython-input-9-3ae07ccb5f82>\u001b[0m in \u001b[0;36m<module>\u001b[1;34m()\u001b[0m\n\u001b[0;32m     24\u001b[0m \u001b[1;33m\u001b[0m\u001b[0m\n\u001b[0;32m     25\u001b[0m \u001b[1;33m\u001b[0m\u001b[0m\n\u001b[1;32m---> 26\u001b[1;33m \u001b[0msklGMM\u001b[0m \u001b[1;33m=\u001b[0m \u001b[0msklearn\u001b[0m\u001b[1;33m.\u001b[0m\u001b[0mmixture\u001b[0m\u001b[1;33m.\u001b[0m\u001b[0mGMM\u001b[0m\u001b[1;33m(\u001b[0m\u001b[0mn_components\u001b[0m\u001b[1;33m=\u001b[0m\u001b[1;36m2\u001b[0m\u001b[1;33m)\u001b[0m\u001b[1;33m\u001b[0m\u001b[0m\n\u001b[0m\u001b[0;32m     27\u001b[0m \u001b[0msklGMM\u001b[0m\u001b[1;33m.\u001b[0m\u001b[0mfit\u001b[0m\u001b[1;33m(\u001b[0m\u001b[0mirisData\u001b[0m\u001b[1;33m)\u001b[0m\u001b[1;33m\u001b[0m\u001b[0m\n\u001b[0;32m     28\u001b[0m \u001b[0mpredicted_label\u001b[0m \u001b[1;33m=\u001b[0m \u001b[0msklGMM\u001b[0m\u001b[1;33m.\u001b[0m\u001b[0mpredict\u001b[0m\u001b[1;33m(\u001b[0m\u001b[0mirisData\u001b[0m\u001b[1;33m)\u001b[0m\u001b[1;33m\u001b[0m\u001b[0m\n",
      "\u001b[1;31mAttributeError\u001b[0m: module 'sklearn.mixture' has no attribute 'GMM'"
     ]
    }
   ],
   "source": [
    "import sklearn.cluster\n",
    "import sklearn.mixture\n",
    "\n",
    "sklKMeans = sklearn.cluster.KMeans(n_clusters=2)\n",
    "sklKMeans.fit(irisData)\n",
    "predicted_label = sklKMeans.predict(irisData)\n",
    "cluster_centroids = sklKMeans.cluster_centers_\n",
    "\n",
    "counter=0\n",
    "i=0\n",
    "for i in predicted_label:\n",
    "    if i == 0:\n",
    "        plt.scatter(irisData[counter,1], irisData[counter,3], color='green', marker='.')\n",
    "    else:\n",
    "        plt.scatter(irisData[counter,1], irisData[counter,3], color='blue', marker='.')\n",
    "    counter += 1\n",
    "plt.scatter(cluster_centroids[:,1], cluster_centroids[:,3], color='red', marker='x')\n",
    "\n",
    "plt.xlabel('Sepal width')\n",
    "plt.ylabel('Petal width')\n",
    "\n",
    "plt.title('sklearn implementation of KMeans')\n",
    "plt.show() \n",
    "\n",
    "\n",
    "sklGMM = sklearn.mixture.GMM(n_components=2)\n",
    "sklGMM.fit(irisData)\n",
    "predicted_label = sklGMM.predict(irisData)\n",
    "cluster_centroids = sklGMM.means_\n",
    "\n",
    "counter=0\n",
    "i=0\n",
    "for i in predicted_label:\n",
    "    if i == 0:\n",
    "        plt.scatter(irisData[counter,1], irisData[counter,3], color='green', marker='.')\n",
    "    else:\n",
    "        plt.scatter(irisData[counter,1], irisData[counter,3], color='blue', marker='.')\n",
    "    counter += 1\n",
    "plt.scatter(cluster_centroids[:,1], cluster_centroids[:,3], color='red', marker='x')\n",
    "\n",
    "plt.xlabel('Sepal width')\n",
    "plt.ylabel('Petal width')\n",
    "\n",
    "plt.title('sklearn implementation of GMMs')\n",
    "plt.show() "
   ]
  },
  {
   "cell_type": "code",
   "execution_count": null,
   "metadata": {},
   "outputs": [],
   "source": []
  }
 ],
 "metadata": {
  "anaconda-cloud": {},
  "kernelspec": {
   "display_name": "Python 3",
   "language": "python",
   "name": "python3"
  },
  "language_info": {
   "codemirror_mode": {
    "name": "ipython",
    "version": 3
   },
   "file_extension": ".py",
   "mimetype": "text/x-python",
   "name": "python",
   "nbconvert_exporter": "python",
   "pygments_lexer": "ipython3",
   "version": "3.5.6"
  }
 },
 "nbformat": 4,
 "nbformat_minor": 2
}
